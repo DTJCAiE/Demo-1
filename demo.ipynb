{
 "cells": [
  {
   "cell_type": "markdown",
   "metadata": {},
   "source": [
    "||   |\n",
    "|-|-|\n",
    "|![](cover.png)| [Principles of Econometrics, 4th Edition](http://principlesofeconometrics.com/poe4/poe4.htm)<br> Publisher: Wiley; 4th edition (January 4, 2011)<br> Language: English<br> Hardcover: 784 pages<br> ISBN-10: 0470626739<br> ISBN-13: 978-0470626733|\n",
    "\n"
   ]
  },
  {
   "cell_type": "markdown",
   "metadata": {},
   "source": [
    "### Question 5.19\n",
    "\n",
    "Use the data in [cps4_small.dat](http://www.principlesofeconometrics.com/poe4/data/stata/cps4_small.dta) to estimate the following wage equation\n",
    "$$\n",
    "\\ln (W A G E)=\\beta_1+\\beta_2 E D U C+\\beta_3 E X P E R+\\beta_4 H R S W K+e\n",
    "$$"
   ]
  },
  {
   "cell_type": "code",
   "execution_count": 1,
   "metadata": {},
   "outputs": [],
   "source": [
    "import pandas as pd\n",
    "pd = pd.read_stata('http://www.principlesofeconometrics.com/poe4/data/stata/cps4_small.dta')\n",
    "\n",
    "# import libraries\n",
    "import pandas as pandas\n",
    "import numpy as np\n",
    "import matplotlib.pyplot as plt\n",
    "\n",
    "import scipy.stats as stats\n",
    "from statsmodels.regression.linear_model import OLS\n",
    "\n",
    "import statsmodels.api as sm\n",
    "\n",
    "import scipy\n",
    "import patsy\n",
    "\n",
    "import warnings\n",
    "warnings.filterwarnings(\"ignore\")"
   ]
  },
  {
   "cell_type": "markdown",
   "metadata": {},
   "source": [
    "\n",
    "(a) Report the results. Interpret the estimates for $\\beta_2$, $\\beta_3$, and $\\beta_4$. Are these estimates significantly different from zero?\n",
    "\n"
   ]
  },
  {
   "cell_type": "code",
   "execution_count": null,
   "metadata": {},
   "outputs": [],
   "source": [
    "f = 'np.log(pd.wage) ~ educ + exper + hrswk'\n",
    "y, X = patsy.dmatrices(f, data=pd, return_type='dataframe')\n",
    "OLS_from_GLM = sm.GLM(y, X)\n",
    "fit = OLS_from_GLM.fit(cov_type='HC1')\n",
    "print(fit.summary())\n"
   ]
  },
  {
   "cell_type": "markdown",
   "metadata": {},
   "source": [
    "Education, experience, and hours work have a positive and significant effect on the log of wages earned. $\\beta_2$, $\\beta_3$, and $\\beta_4$ are all significantly different than zero."
   ]
  },
  {
   "cell_type": "markdown",
   "metadata": {},
   "source": [
    "(b) Test the hypothesis that an extra year of education increases the wage rate by at least $10 \\%$ against the alternative that it is less than $10 \\%$.\n"
   ]
  },
  {
   "cell_type": "code",
   "execution_count": null,
   "metadata": {},
   "outputs": [],
   "source": [
    "fit.t_test('educ = 0.1')"
   ]
  },
  {
   "cell_type": "markdown",
   "metadata": {},
   "source": [
    "Because the z value is greater than -1.64, we fail to reject the null hypothesis. "
   ]
  },
  {
   "cell_type": "markdown",
   "metadata": {},
   "source": [
    "(c) Find a $90 \\%$ interval estimate for the percentage increase in wage from working an additional hour per week."
   ]
  },
  {
   "cell_type": "code",
   "execution_count": null,
   "metadata": {},
   "outputs": [],
   "source": [
    "fit.conf_int(alpha=0.1)"
   ]
  },
  {
   "cell_type": "markdown",
   "metadata": {},
   "source": [
    "(d) Re-estimate the model with the additional variables $E D U C \\times E X P E R, E D U C^2$, and $E X P E R^2$. Report the results. Are the estimated coefficients significantly different from zero?"
   ]
  },
  {
   "cell_type": "code",
   "execution_count": null,
   "metadata": {},
   "outputs": [],
   "source": [
    "pd['educ2'] = (pd.educ**2)/100\n",
    "pd['exper2'] = (pd.exper**2)/100\n",
    "\n",
    "f = 'np.log(pd.wage) ~ educ + exper + educ2 + exper2 + educ*exper + hrswk'\n",
    "y, X = patsy.dmatrices(f, data=pd, return_type='dataframe')\n",
    "OLS_from_GLM = sm.GLM(y, X)\n",
    "fit = OLS_from_GLM.fit(cov_type='HC1')\n",
    "print(fit.summary())"
   ]
  },
  {
   "cell_type": "markdown",
   "metadata": {},
   "source": [
    "Coefficients on education, education squared, and hours worked are significantly different from zero."
   ]
  },
  {
   "cell_type": "markdown",
   "metadata": {},
   "source": [
    "(e) For the new model, find expressions for the marginal effects $\\partial \\ln (W A G E) /$ $\\partial E D U C$ and $\\partial \\ln (W A G E) / \\partial E X P E R$."
   ]
  },
  {
   "cell_type": "markdown",
   "metadata": {},
   "source": [
    "ln(wage) = $\\beta_0 + \\beta_1 EDUC + \\beta_2 EXPER + \\beta_3 EDU^2 + \\beta_4 EXPER^2 + \\beta_5 EDUC*EXPER +\\beta_6 HRSWK + \\epsilon \n",
    "\\newline\n",
    "\\frac{\\partial ln(WAGE)}{\\partial{EDUC}} = \\beta_1 + 2\\beta_3 EDUC + \\beta_5 EXPER\n",
    "\\newline\n",
    "\\frac{\\partial ln(WAGE)}{\\partial{EXPER}} = \\beta_1 + 2\\beta_4 EXPER + \\beta_5 EDUC$ "
   ]
  }
 ],
 "metadata": {
  "kernelspec": {
   "display_name": "base",
   "language": "python",
   "name": "python3"
  },
  "language_info": {
   "codemirror_mode": {
    "name": "ipython",
    "version": 3
   },
   "file_extension": ".py",
   "mimetype": "text/x-python",
   "name": "python",
   "nbconvert_exporter": "python",
   "pygments_lexer": "ipython3",
   "version": "3.12.7"
  }
 },
 "nbformat": 4,
 "nbformat_minor": 4
}
